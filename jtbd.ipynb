{
 "cells": [
  {
   "cell_type": "code",
   "execution_count": 31,
   "metadata": {},
   "outputs": [],
   "source": [
    "import json\n",
    "import pandas as pd\n",
    "from importlib import reload\n",
    "\n",
    "import lib.generate_jobs as this\n",
    "reload(this)\n",
    "\n",
    "df = pd.read_excel(\"./data/situation-need-extracted.xlsx\")\n",
    "df.head()\n",
    "\n",
    "analysis_list = []\n",
    "for index, row in df[:25].iterrows():\n",
    "    sound_bite_text = row['Sound Bite Text']\n",
    "    res = this.chain.invoke({\"text\": sound_bite_text})\n",
    "    res_dict = json.loads(res.additional_kwargs['function_call']['arguments'])[\"analysis\"]\n",
    "    res_dict_df = pd.DataFrame(res_dict)\n",
    "    res_dict_df['Sound Bite Text'] = sound_bite_text\n",
    "    analysis_list.append(res_dict_df)\n",
    "\n",
    "analysis = pd.concat(analysis_list)\n",
    "analysis.to_excel('analysis_gpt-4-0125-preview2.xlsx', index=False)\n"
   ]
  }
 ],
 "metadata": {
  "kernelspec": {
   "display_name": "design",
   "language": "python",
   "name": "python3"
  },
  "language_info": {
   "codemirror_mode": {
    "name": "ipython",
    "version": 3
   },
   "file_extension": ".py",
   "mimetype": "text/x-python",
   "name": "python",
   "nbconvert_exporter": "python",
   "pygments_lexer": "ipython3",
   "version": "3.11.0"
  }
 },
 "nbformat": 4,
 "nbformat_minor": 2
}
